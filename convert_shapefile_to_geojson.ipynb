{
 "cells": [
  {
   "cell_type": "code",
   "execution_count": 5,
   "metadata": {},
   "outputs": [
    {
     "name": "stdout",
     "output_type": "stream",
     "text": [
      "Filtered GeoJSON file has been saved to montreal_canbics.geojson\n"
     ]
    }
   ],
   "source": [
    "import geopandas as gpd\n",
    "\n",
    "# Path to your shapefile\n",
    "shapefile_path = 'OSM_CAN_BICS_V1/OSM_CAN_BICS_v1.shp'  # Update this path if necessary\n",
    "\n",
    "# Read the shapefile using GeoPandas\n",
    "gdf = gpd.read_file(shapefile_path)\n",
    "\n",
    "# Optional: Reproject to WGS84 (EPSG:4326) if necessary\n",
    "gdf = gdf.to_crs(epsg=4326)\n",
    "\n",
    "# Filter the data where 'CSDNAME' equals 'Montréal'\n",
    "# gdf_filtered = gdf[gdf['CSDNAME'] == 'Montréal']\n",
    "# Filter using a case-insensitive contains to handle encoding discrepancies\n",
    "gdf_filtered = gdf[gdf['CSDNAME'].str.contains('Montr', case=False, na=False)]\n",
    "\n",
    "\n",
    "# Save the filtered data to GeoJSON\n",
    "geojson_path = 'montreal_canbics.geojson'\n",
    "gdf_filtered.to_file(geojson_path, driver='GeoJSON')\n",
    "\n",
    "print(f\"Filtered GeoJSON file has been saved to {geojson_path}\")\n"
   ]
  },
  {
   "cell_type": "code",
   "execution_count": 6,
   "metadata": {},
   "outputs": [
    {
     "data": {
      "text/plain": [
       "Index(['CSDNAME', 'CSDUID', 'PRNAME', 'PRUID', 'osm_id', 'osm_name',\n",
       "       'CBICS_infr', 'CBICS_comf', 'geometry'],\n",
       "      dtype='object')"
      ]
     },
     "execution_count": 6,
     "metadata": {},
     "output_type": "execute_result"
    }
   ],
   "source": [
    "gdf.columns"
   ]
  },
  {
   "cell_type": "code",
   "execution_count": 7,
   "metadata": {},
   "outputs": [
    {
     "data": {
      "text/plain": [
       "array(['Non-Conforming Trail', 'Non-Conforming Other', 'Multi-Use Path',\n",
       "       'Local Street Bikeway', 'Painted Bike Lane', 'Cycle Track',\n",
       "       'Non-Conforming Major Road', 'Bike Path'], dtype=object)"
      ]
     },
     "execution_count": 7,
     "metadata": {},
     "output_type": "execute_result"
    }
   ],
   "source": [
    "gdf['CBICS_infr'].unique()"
   ]
  },
  {
   "cell_type": "code",
   "execution_count": null,
   "metadata": {},
   "outputs": [],
   "source": []
  }
 ],
 "metadata": {
  "kernelspec": {
   "display_name": "env",
   "language": "python",
   "name": "python3"
  },
  "language_info": {
   "codemirror_mode": {
    "name": "ipython",
    "version": 3
   },
   "file_extension": ".py",
   "mimetype": "text/x-python",
   "name": "python",
   "nbconvert_exporter": "python",
   "pygments_lexer": "ipython3",
   "version": "3.12.3"
  }
 },
 "nbformat": 4,
 "nbformat_minor": 2
}
